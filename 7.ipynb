{
 "cells": [
  {
   "cell_type": "code",
   "execution_count": 5,
   "id": "adef0efa",
   "metadata": {},
   "outputs": [
    {
     "name": "stdout",
     "output_type": "stream",
     "text": [
      "Euclidean distance: 5.196152422706632\n"
     ]
    }
   ],
   "source": [
    "import numpy as np\n",
    "\n",
    "def euclidean_distance(point1, point2):\n",
    "    \"\"\"\n",
    "    Calculate the Euclidean distance between two points in n-dimensional space.\n",
    "    \n",
    "    Parameters:\n",
    "    point1 (array-like): Coordinates of the first point.\n",
    "    point2 (array-like): Coordinates of the second point.\n",
    "    \n",
    "    Returns:\n",
    "    float: Euclidean distance between the two points.\n",
    "    \"\"\"\n",
    "    # Convert points to numpy arrays for ease of calculation\n",
    "    point1 = np.array(point1)\n",
    "    point2 = np.array(point2)\n",
    "    \n",
    "    # Calculate the squared differences of coordinates\n",
    "    squared_diff = np.sum((point1 - point2) ** 2)\n",
    "    \n",
    "    # Return the square root of the sum of squared differences\n",
    "    return np.sqrt(squared_diff)\n",
    "\n",
    "# Define the points\n",
    "point1 = [1, 2, 3]\n",
    "point2 = [4, 5, 6]\n",
    "\n",
    "# Calculate the Euclidean distance between the points\n",
    "distance = euclidean_distance(point1, point2)\n",
    "\n",
    "# Print the result\n",
    "print(\"Euclidean distance:\", distance)\n"
   ]
  },
  {
   "cell_type": "code",
   "execution_count": null,
   "id": "702ea3d4",
   "metadata": {},
   "outputs": [],
   "source": []
  }
 ],
 "metadata": {
  "kernelspec": {
   "display_name": "Python 3 (ipykernel)",
   "language": "python",
   "name": "python3"
  },
  "language_info": {
   "codemirror_mode": {
    "name": "ipython",
    "version": 3
   },
   "file_extension": ".py",
   "mimetype": "text/x-python",
   "name": "python",
   "nbconvert_exporter": "python",
   "pygments_lexer": "ipython3",
   "version": "3.10.9"
  }
 },
 "nbformat": 4,
 "nbformat_minor": 5
}
